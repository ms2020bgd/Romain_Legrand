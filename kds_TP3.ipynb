{
 "cells": [
  {
   "cell_type": "code",
   "execution_count": 5,
   "metadata": {},
   "outputs": [],
   "source": [
    "from bs4 import BeautifulSoup\n",
    "import requests"
   ]
  },
  {
   "cell_type": "code",
   "execution_count": 6,
   "metadata": {},
   "outputs": [
    {
     "name": "stdout",
     "output_type": "stream",
     "text": [
      "['fabpot', 'andrew', 'taylorotwell', 'egoist', 'HugoGiraudel', 'ornicar', 'bebraw', 'nelsonic', 'alexcrichton', 'jonathanong', 'mikermcneil', 'benbalter', 'jxnblk', 'yegor256', 'orta', 'rstacruz', 'GrahamCampbell', 'afc163', 'kamranahmedse', 'joshaber', 'bkeepers', 'kennethreitz', 'kytrinyx', 'STRML', 'atmos', 'weierophinney', 'agentzh', 'steipete', 'ai', 'mikepenz', 'nvie', 'hadley', 'appleboy', 'Rich-Harris', 'drnic', 'rafaelfranca', 'Ocramius', 'mitchellh', 'stof', 'IgorMinar', 'phodal', 'jwiegley', 'geerlingguy', 'dcramer', 'sebastianbergmann', 'brunocvcunha', 'ljharb', 'jdalton', 'sevilayha', 'paulmillr', 'tmm1', 'c9s', 'zcbenz', 'holman', 'kevinsawicki', 'yihui', 'buckyroberts', 'kbrsh', 'dmalan', 'mhevery', 'mgechev', 'kylef', 'chjj', 'ayende', 'mcollina', 'mdo', 'yoshuawuyts', 'muan', 'kentcdodds', 'jskeet', 'mitsuhiko', 'steveklabnik', 'hzoo', 'Caged', 'dlew', 'technoweenie', 'gaearon', 'soumith', 'feross', 'michalbe', 'brianleroux', 'willdurand', 'alexjlockwood', 'matsko', 'stefanpenner', 'adamwathan', 'Haacked', 'curran', 'rauchg', 'ianstormtaylor', 'KrauseFx', 'tj', 'jgm', 'jverkoey', 'chenglou', 'DataTables', 'SamyPesse', 'mjhea0', '0x00A', 'tmcw', 'brentvatne', 'carpedm20', 'benjamn', 'notwaldorf', 'miyagawa', 'rnystrom', 'photonstorm', 'mattn', 'dougwilson', 'JakeWharton', 'yyx990803', 'krzysztofzablocki', 'eduardolundgren', 'vjeux', 'mxcl', 'domenic', 'alex', 'mrdoob', 'josegonzalez', 'fzaninotto', 'pissang', 'jamesmontemagno', 'paulcbetts', 'paulirish', 'samdark', 'madskristensen', 'sokra', 'marijnh', 'alanhamlett', 'wesm', 'josevalim', 'jennybc', 'BurntSushi', 'zenorocha', 'contra', 'jaredhanson', 'radar', 'bevacqua', 'xudafeng', 'j2kun', 'dominictarr', 'avelino', 'vinta', 'developit', 'ashleygwilliams', 'ashfurrow', 'f', 'onevcat', 'toddmotto', 'gdi2290', 'EisenbergEffect', 'ankane', 'keijiro', 'nolimits4web', 'davidfowl', 'biezhi', 'LeaVerou', 'davidtmiller', 'odersky', 'vhf', 'soffes', 'mxstbr', 'Jinjiang', 'happypeter', 'yeasy', 'mafintosh', 'vczh', 'Draveness', 'ded', 'vladikoff', 'bnoordhuis', 'jendewalt', 'jessfraz', 'indutny', 'olivergierke', 'i5ting', 'laanwj', 'drakeet', 'thejameskyle', 'ahmetb', 'sdiehl', 'jaywcjlove', 'gitster', 'djspiewak', 'evilsocket', 'mariotaku', 'shama', 'CamDavidsonPilon', 'dsyer', 'winterbe', 'dennybritz', 'arun-gupta', 'maryrosecook', 'killme2008', 'IanLunn', 'ruanyf', 'binux', 'nfultz', 'leah', 'suissa', 'anishathalye', 'pkrumins', 'isaacs', 'staltz', 'KittenYang', 'leebyron', 'fengmk2', 'passy', 'gorhill', 'phuslu', 'mrmrs', 'siddontang', 'daylerees', 'weavejester', 'zce', 'philsturgeon', 'oldratlee', 'josephmisiti', 'atian25', 'ebidel', 'overtrue', 'connors', 'eliben', 'Seldaek', 'joyeecheung', 'bailicangdu', 'nikic', 'codahale', 'amitshekhariitbhu', 'rakyll', 'junyanz', 'simurai', 'nicolasgramlich', 'shiffman', 'purcell', 'evanphx', 'ericelliott', 'matyhtf', 'StephenGrider', 'AdamBien', 'rtomayko', 'tomchristie', 'be5invis', 'amueller', 'dead-horse', 'remy', 'Unknwon', 'jiyinyiyong', 'Shougo', 'arunoda', 'benoitc', 'ask', 'JohnSundell', 'Raynos', 'samuelclay', 'unicodeveloper']\n"
     ]
    }
   ],
   "source": [
    "# first obtain the names of the top 256 contributors\n",
    "url = 'https://gist.github.com/paulmillr/2657075'\n",
    "ncontributors = 256\n",
    "content = requests.get(url)\n",
    "html = content.text\n",
    "soup = BeautifulSoup(html, \"html.parser\")\n",
    "# the scraping strategy is simple: the contributors are found in 'th' tags, with '#n' attributes\n",
    "top_contributors=[]\n",
    "for i in range (1,ncontributors+1,1):\n",
    "    hash = '#'+str(i)\n",
    "    contributor = str(soup.find('th', text=hash).find_next_sibling().find('a').contents[0])\n",
    "    top_contributors.append(contributor)\n",
    "print(top_contributors)\n",
    "\n",
    "# J'ai install PyGithub sur mon ordinateur, mais il ne fonctionne pas\n",
    "# la commande \"from github import Github\" renvoie l'erreur: ModuleNotFoundError: No module named 'github'\n",
    "# je ne vois pas comment accéder à l'API Github ..."
   ]
  },
  {
   "cell_type": "code",
   "execution_count": null,
   "metadata": {},
   "outputs": [],
   "source": []
  }
 ],
 "metadata": {
  "kernelspec": {
   "display_name": "Python 3",
   "language": "python",
   "name": "python3"
  },
  "language_info": {
   "codemirror_mode": {
    "name": "ipython",
    "version": 3
   },
   "file_extension": ".py",
   "mimetype": "text/x-python",
   "name": "python",
   "nbconvert_exporter": "python",
   "pygments_lexer": "ipython3",
   "version": "3.7.3"
  }
 },
 "nbformat": 4,
 "nbformat_minor": 2
}
