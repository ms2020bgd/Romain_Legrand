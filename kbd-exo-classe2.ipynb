








<!DOCTYPE html>
<html lang="en">

<head>
  <meta charset="utf-8">
  <title>Jupyter Notebook Viewer</title>
  <meta name="viewport" content="width=device-width, initial-scale=1.0">
  <meta name="description" content="">
  <meta name="author" content="">
  
  <meta name="robots" content="noindex,nofollow">
  

  <!--NEW RELIC Start Perf Measurement-->
  
  <!--NREND-->

  <!-- Le styles -->
  <link href="/static/build/styles.css?v=55ba354138253381d2c0ada9821cd4da" rel="stylesheet">

  <!-- Le HTML5 shim, for IE6-8 support of HTML5 elements -->
  <!--[if lt IE 9]>
    <script src="http://html5shim.googlecode.com/svn/trunk/html5.js"></script>
  <![endif]-->

  <!-- Le fav and touch icons -->
  <link rel="shortcut icon" href="/static/ico/ipynb_icon_16x16.png">
  <link rel="apple-touch-icon-precomposed" sizes="144x144"
        href="/static/ico/apple-touch-icon-144-precomposed.png?v=5a3c9ede93e2a8b8ea9e3f8f3da1a905">
  <link rel="apple-touch-icon-precomposed" sizes="114x114"
        href="/static/ico/apple-touch-icon-114-precomposed.png?v=45d86fc8f24dc00638035e1dd7a6d898">
  <link rel="apple-touch-icon-precomposed" sizes="72x72"
        href="/static/ico/apple-touch-icon-72-precomposed.png?v=540b5eb0f3cfd25f1439d1c9bd30e15f">
  <link rel="apple-touch-icon-precomposed"
        href="/static/ico/apple-touch-icon-57-precomposed.png?v=225f0590e187e1458625654f10a28f56">
  
  

  

  
  <meta name="twitter:card" content="summary">
  <meta name="twitter:title" content="Notebook on nbviewer">
  <meta name="twitter:description" content="Check out this Jupyter notebook!">

  
  <meta name="twitter:domain" content="nbviewer.jupyter.org">
  <meta name="twitter:image:src" content="http://ipython.org/ipython-doc/dev/_images/ipynb_icon_128x128.png">

  
    <link href="/static/build/notebook.css?v=aae8f92f7e80fc468ae446b9d852fe90" rel="stylesheet">
  

  

  
    <script src="https://cdnjs.cloudflare.com/ajax/libs/mathjax/2.7.1/MathJax.js?config=TeX-AMS_HTML" type="text/javascript">
    </script>
    <script type="text/javascript">
      init_mathjax = function() {
        if (window.MathJax) {
          // MathJax loaded
          MathJax.Hub.Config({
            TeX: {
              equationNumbers: {
                autoNumber: "AMS",
                useLabelIds: true
              }
            },
            tex2jax: {
              inlineMath: [ ['$','$'], ["\\(","\\)"] ],
              displayMath: [ ['$$','$$'], ["\\[","\\]"] ],
              processEscapes: true,
              processEnvironments: true
            },
            displayAlign: 'center',
            "HTML-CSS": {
              styles: {'.MathJax_Display': {"margin": 0}},
              linebreaks: { automatic: true }
            }
          });
          MathJax.Hub.Queue(["Typeset", MathJax.Hub]);
        }
      }
      init_mathjax();
    </script>
  

  
    <script>
      (function() {
        function addWidgetsRenderer() {
          var mimeElement = document.querySelector('script[type="application/vnd.jupyter.widget-view+json"]');
          var scriptElement = document.createElement('script');
          var widgetRendererSrc = 'https://unpkg.com/@jupyter-widgets/html-manager@0.15/dist/embed-amd.js';
          var widgetState;

          try {
            widgetState = mimeElement && JSON.parse(mimeElement.innerHTML);

            if (widgetState && (widgetState.version_major < 2 || !widgetState.version_major)) {
              widgetRendererSrc = 'https://unpkg.com/jupyter-js-widgets@2.1/dist/embed.js';
            }
          } catch(e) {}

          scriptElement.src = widgetRendererSrc;
          document.body.appendChild(scriptElement);
        }

        document.addEventListener('DOMContentLoaded', addWidgetsRenderer);
      }());
    </script>
  

</head>

<body class="nbviewer">

  <!-- These are loaded at the top of the body so they are available to
       notebook cells when they are loaded below. -->
  <script src="/static/components/jquery/dist/jquery.min.js?v=220afd743d9e9643852e31a135a9f3ae"></script>
  <script src="/static/components/requirejs/require.js?v=6da8be361b9ee26c5e721e76c6d4afce"></script>
  <script src="/static/components/moment/min/moment.min.js?v=89f87298ad94aa1e6b92f42eb66da043"></script>
<!-- Navbar
================================================== -->
  <nav id="menubar" class="navbar navbar-default navbar-fixed-top" data-spy="affix">
    <div class="container">
      <div class="navbar-header">
        <button type="button" class="navbar-toggle collapsed" data-toggle="collapse" data-target=".navbar-collapse">
          <span class="sr-only">Toggle navigation</span>
          <i class="fa fa-bars"></i>
        </button>
        <a class="navbar-brand" href="/">
          <img src="/static/img/nav_logo.svg?v=479cefe8d932fb14a67b93911b97d70f" width="159"/>
        </a>
      </div>

      <div class="collapse navbar-collapse">
        <ul class="nav navbar-nav navbar-right">
          <li>
            <a class="active" href="https://jupyter.org">JUPYTER</a>
          </li>
          <li>
    <a href="/faq" title="FAQ" >
      
        <span>FAQ</span>
      
    </a>
  </li>

          
  
    
  
    
      
        <li>
    <a href="/format/script/github/fspot/INFMDI-721/blob/master/lesson3/exo_cc_lesson2-corrige.ipynb" title="View as Code" >
      <span class="fa fa-code fa-2x menu-icon"></span>
      <span class="menu-text">View as Code</span>
    </a>
  </li>
      
    
  

  
    <li>
    <a href="#" title="Python 3 Kernel" >
      <span class="fa fa-server fa-2x menu-icon"></span>
      <span class="menu-text">Python 3 Kernel</span>
    </a>
  </li>
  

  
    <li>
    <a href="https://github.com/fspot/INFMDI-721/blob/master/lesson3/exo_cc_lesson2-corrige.ipynb" title="View on GitHub" >
      <span class="fa fa-github fa-2x menu-icon"></span>
      <span class="menu-text">View on GitHub</span>
    </a>
  </li>
  

  
    <li>
    <a href="https://mybinder.org/v2/gh/fspot/INFMDI-721/master?filepath=lesson3/exo_cc_lesson2-corrige.ipynb" title="Execute on Binder" >
      <span class="fa fa-icon-binder fa-2x menu-icon"></span>
      <span class="menu-text">Execute on Binder</span>
    </a>
  </li>
  

  <li>
    <a href="https://raw.githubusercontent.com/fspot/INFMDI-721/master/lesson3/exo_cc_lesson2-corrige.ipynb" title="Download Notebook" download>
      <span class="fa fa-download fa-2x menu-icon"></span>
      <span class="menu-text">Download Notebook</span>
    </a>
  </li>

        </ul>
      </div><!-- /.navbar-collapse -->
      
      
    </div>
  </nav>

  <div class="container container-main">
    
  
  <ol class="breadcrumb">
    
      <li>
        <a href="/github/fspot/INFMDI-721/tree/master">INFMDI-721</a>
      </li>
    
      <li>
        <a href="/github/fspot/INFMDI-721/tree/master/lesson3">lesson3</a>
      </li>
    
  </ol>
  
  <div id="notebook">
    <div id="notebook-container">
      <div class="cell border-box-sizing code_cell rendered">
<div class="input">
<div class="prompt input_prompt">In&nbsp;[1]:</div>
<div class="inner_cell">
    <div class="input_area">
<div class=" highlight hl-ipython3"><pre><span></span><span class="kn">import</span> <span class="nn">requests</span>
<span class="kn">from</span> <span class="nn">bs4</span> <span class="k">import</span> <span class="n">BeautifulSoup</span>

<span class="n">URL_PAGE2</span> <span class="o">=</span> <span class="s2">&quot;https://kim.fspot.org/cours/page2.html&quot;</span>
<span class="n">URL_PAGE3</span> <span class="o">=</span> <span class="s2">&quot;https://kim.fspot.org/cours/page3.html&quot;</span>


<span class="c1"># Write a function which extract some infos from the pages above.</span>
<span class="c1"># Example:</span>
<span class="c1">#     get_prices_from_url(URL_PAGE2) should return something like this:</span>
<span class="c1">#</span>
<span class="c1">#     {</span>
<span class="c1">#         &#39;Personal&#39;: {</span>
<span class="c1">#             &#39;price&#39;: &#39;$5&#39;,</span>
<span class="c1">#             &#39;storage&#39;: &#39;1GB&#39;,</span>
<span class="c1">#             &#39;databases&#39;: 1</span>
<span class="c1">#         },</span>
<span class="c1">#         &#39;Small Business&#39;: {</span>
<span class="c1">#             &#39;price&#39;: &#39;$25&#39;,</span>
<span class="c1">#             &#39;storage&#39;: &#39;10GB&#39;,</span>
<span class="c1">#             &#39;databases&#39;: 5</span>
<span class="c1">#         },</span>
<span class="c1">#         &#39;Enterprise&#39;: {</span>
<span class="c1">#             &#39;price&#39;: &#39;$45&#39;,</span>
<span class="c1">#             &#39;storage&#39;: &#39;100GB&#39;,</span>
<span class="c1">#             &#39;databases&#39;: 25</span>
<span class="c1">#         }</span>
<span class="c1">#     }</span>
<span class="k">def</span> <span class="nf">get_prices_from_url</span><span class="p">(</span><span class="n">url</span><span class="p">):</span>
    <span class="n">soup</span> <span class="o">=</span> <span class="n">get_soup_from_url</span><span class="p">(</span><span class="n">url</span><span class="p">)</span>
    <span class="n">prices</span> <span class="o">=</span> <span class="p">{}</span>
    
    <span class="n">pricing_table</span> <span class="o">=</span> <span class="n">soup</span><span class="o">.</span><span class="n">find_all</span><span class="p">(</span><span class="n">class_</span><span class="o">=</span><span class="s2">&quot;pricing-table&quot;</span><span class="p">)</span>
    <span class="k">for</span> <span class="n">t</span> <span class="ow">in</span> <span class="n">pricing_table</span><span class="p">:</span>
        <span class="n">product_name</span> <span class="o">=</span> <span class="n">t</span><span class="o">.</span><span class="n">find</span><span class="p">(</span><span class="s2">&quot;h2&quot;</span><span class="p">)</span><span class="o">.</span><span class="n">text</span>
        <span class="n">price</span> <span class="o">=</span> <span class="n">t</span><span class="o">.</span><span class="n">find</span><span class="p">(</span><span class="n">class_</span><span class="o">=</span><span class="s2">&quot;pricing-table-price&quot;</span><span class="p">)</span><span class="o">.</span><span class="n">text</span><span class="o">.</span><span class="n">strip</span><span class="p">()</span><span class="o">.</span><span class="n">split</span><span class="p">()[</span><span class="mi">0</span><span class="p">]</span>
        <span class="n">storage</span><span class="p">,</span> <span class="n">db</span> <span class="o">=</span> <span class="n">t</span><span class="o">.</span><span class="n">select</span><span class="p">(</span><span class="s2">&quot;.pricing-table-list li&quot;</span><span class="p">)[</span><span class="mi">3</span><span class="p">:</span><span class="mi">5</span><span class="p">]</span>
        <span class="n">prices</span><span class="p">[</span><span class="n">product_name</span><span class="p">]</span> <span class="o">=</span> <span class="p">{</span>
            <span class="s1">&#39;price&#39;</span><span class="p">:</span> <span class="n">price</span><span class="p">,</span>
            <span class="s1">&#39;storage&#39;</span><span class="p">:</span> <span class="n">storage</span><span class="o">.</span><span class="n">text</span><span class="o">.</span><span class="n">split</span><span class="p">()[</span><span class="mi">0</span><span class="p">],</span>
            <span class="s1">&#39;databases&#39;</span><span class="p">:</span> <span class="nb">int</span><span class="p">(</span><span class="n">db</span><span class="o">.</span><span class="n">text</span><span class="o">.</span><span class="n">split</span><span class="p">()[</span><span class="mi">0</span><span class="p">]),</span>
        <span class="p">}</span>
    
    <span class="k">return</span> <span class="n">prices</span>


<span class="c1"># ~~~~~~~~~~~~~~~~~~~~~~~~~~~~~~</span>
<span class="n">URL_BEERLIST_AUTRICHE</span> <span class="o">=</span> <span class="s2">&quot;https://www.beerwulf.com/fr-FR/api/search/searchProducts?country=Autriche&amp;container=Bouteille&quot;</span>


<span class="k">def</span> <span class="nf">get_soup_from_url</span><span class="p">(</span><span class="n">url</span><span class="p">):</span>
    <span class="n">res</span> <span class="o">=</span> <span class="n">requests</span><span class="o">.</span><span class="n">get</span><span class="p">(</span><span class="n">url</span><span class="p">)</span>
    <span class="n">soup</span> <span class="o">=</span> <span class="n">BeautifulSoup</span><span class="p">(</span><span class="n">res</span><span class="o">.</span><span class="n">content</span><span class="p">,</span> <span class="s1">&#39;html.parser&#39;</span><span class="p">)</span>
    <span class="k">return</span> <span class="n">soup</span>


<span class="k">def</span> <span class="nf">extract_beer_infos</span><span class="p">(</span><span class="n">url</span><span class="p">):</span>
    <span class="c1"># Example url: https://www.beerwulf.com/fr-fr/p/bieres/brouwerij-t-verzet-super-noah.33</span>
    <span class="n">soup</span> <span class="o">=</span> <span class="n">get_soup_from_url</span><span class="p">(</span><span class="n">url</span><span class="p">)</span>
    
    <span class="c1"># Extract name:</span>
    <span class="n">name</span> <span class="o">=</span> <span class="n">soup</span><span class="o">.</span><span class="n">find</span><span class="p">(</span><span class="s2">&quot;h1&quot;</span><span class="p">)</span><span class="o">.</span><span class="n">text</span>
    
    <span class="c1"># Extract price:</span>
    <span class="n">price</span> <span class="o">=</span> <span class="n">soup</span><span class="o">.</span><span class="n">select</span><span class="p">(</span><span class="s1">&#39;span.price&#39;</span><span class="p">)[</span><span class="mi">0</span><span class="p">]</span><span class="o">.</span><span class="n">text</span>
    <span class="n">price</span> <span class="o">=</span> <span class="nb">float</span><span class="p">(</span><span class="n">price</span><span class="p">[</span><span class="mi">2</span><span class="p">:]</span><span class="o">.</span><span class="n">replace</span><span class="p">(</span><span class="s1">&#39;,&#39;</span><span class="p">,</span> <span class="s1">&#39;.&#39;</span><span class="p">))</span>  <span class="c1"># &quot;€ 2,29&quot; =&gt; 2.29</span>
    
    <span class="c1"># Extract volume:</span>
    <span class="n">volume</span> <span class="o">=</span> <span class="n">soup</span><span class="o">.</span><span class="n">find</span><span class="p">(</span><span class="s1">&#39;dt&#39;</span><span class="p">,</span> <span class="n">text</span><span class="o">=</span><span class="s1">&#39;Contenu&#39;</span><span class="p">)</span><span class="o">.</span><span class="n">find_next_sibling</span><span class="p">()</span>
    <span class="n">volume</span> <span class="o">=</span> <span class="nb">int</span><span class="p">(</span><span class="n">volume</span><span class="o">.</span><span class="n">text</span><span class="p">[:</span><span class="o">-</span><span class="mi">2</span><span class="p">])</span>  <span class="c1"># &quot;33cl&quot; =&gt; 33</span>
    
    <span class="c1"># Extract evaluation:</span>
    <span class="n">note</span> <span class="o">=</span> <span class="n">soup</span><span class="o">.</span><span class="n">find</span><span class="p">(</span><span class="s1">&#39;div&#39;</span><span class="p">,</span> <span class="n">class_</span><span class="o">=</span><span class="s1">&#39;stars&#39;</span><span class="p">)</span>
    <span class="n">note</span> <span class="o">=</span> <span class="nb">int</span><span class="p">(</span><span class="n">note</span><span class="o">.</span><span class="n">attrs</span><span class="p">[</span><span class="s1">&#39;data-percent&#39;</span><span class="p">])</span>
    
    <span class="c1"># Extract EBC:</span>
    <span class="n">ebc</span> <span class="o">=</span> <span class="n">soup</span><span class="o">.</span><span class="n">find</span><span class="p">(</span><span class="s1">&#39;div&#39;</span><span class="p">,</span> <span class="n">class_</span><span class="o">=</span><span class="s1">&#39;ebc&#39;</span><span class="p">)</span>
    <span class="n">children</span> <span class="o">=</span> <span class="n">ebc</span><span class="o">.</span><span class="n">find_all</span><span class="p">(</span><span class="s1">&#39;div&#39;</span><span class="p">)</span>
    <span class="n">active_tag</span> <span class="o">=</span> <span class="n">ebc</span><span class="o">.</span><span class="n">find</span><span class="p">(</span><span class="s1">&#39;div&#39;</span><span class="p">,</span> <span class="n">class_</span><span class="o">=</span><span class="s1">&#39;active&#39;</span><span class="p">)</span>
    <span class="n">position</span> <span class="o">=</span> <span class="n">children</span><span class="o">.</span><span class="n">index</span><span class="p">(</span><span class="n">active_tag</span><span class="p">)</span>
    <span class="n">ebc_pct</span> <span class="o">=</span> <span class="n">position</span> <span class="o">/</span> <span class="nb">len</span><span class="p">(</span><span class="n">children</span><span class="p">)</span> <span class="o">*</span> <span class="mi">100</span>
    
    <span class="n">infos</span> <span class="o">=</span> <span class="p">{</span>
        <span class="s1">&#39;name&#39;</span><span class="p">:</span> <span class="n">name</span><span class="p">,</span>
        <span class="s1">&#39;price&#39;</span><span class="p">:</span> <span class="n">price</span><span class="p">,</span>
        <span class="s1">&#39;volume&#39;</span><span class="p">:</span> <span class="n">volume</span><span class="p">,</span>
        <span class="s1">&#39;note&#39;</span><span class="p">:</span> <span class="n">note</span><span class="p">,</span>
        <span class="s1">&#39;ebc&#39;</span><span class="p">:</span> <span class="n">ebc_pct</span><span class="p">,</span>
    <span class="p">}</span>
    <span class="k">return</span> <span class="n">infos</span>


<span class="c1"># This function takes a parameter &quot;url&quot; which (as its name suggests) is a url</span>
<span class="c1"># pointing to a page of beerwulf API which contains a list of beers.</span>
<span class="c1"># This function should return a list of beer informations, by using</span>
<span class="c1"># the function extract_beer_infos that we wrote previously.</span>
<span class="c1"># Example:</span>
<span class="c1">#     extract_beer_list_infos(URL_BEERLIST_AUTRICHE) should return a list like this:</span>
<span class="c1">#</span>
<span class="c1">#     [{&#39;name&#39;: &#39;Brew Age Affenkönig&#39;, &#39;price&#39;: 3.49, &#39;volume&#39;: 33, &#39;note&#39;: 70, &#39;ebc&#39;: 30.7},</span>
<span class="c1">#      {&#39;name&#39;: &#39;Stiegl Goldbraü&#39;, &#39;price&#39;: 2.49, &#39;volume&#39;: 33, &#39;note&#39;: 70, &#39;ebc&#39;: 38.4},</span>
<span class="c1">#      {&#39;name&#39;: &#39;Bevog Rudeen Black IPA&#39;, &#39;price&#39;: 3.39, &#39;volume&#39;: 33, &#39;note&#39;: 80, &#39;ebc&#39;: 84.6},</span>
<span class="c1">#      {&#39;name&#39;: &#39;Stiegl Columbus 1492&#39;, &#39;price&#39;: 1.99, &#39;volume&#39;: 33, &#39;note&#39;: 70, &#39;ebc&#39;: 7.6},</span>
<span class="c1">#      {&#39;name&#39;: &#39;Engelszell Benno&#39;, &#39;price&#39;: 4.99, &#39;volume&#39;: 33, &#39;note&#39;: 70, &#39;ebc&#39;: 46.13},</span>
<span class="c1">#      {&#39;name&#39;: &#39;Engelszell Gregorius&#39;, &#39;price&#39;: 5.49, &#39;volume&#39;: 33, &#39;note&#39;: 70, &#39;ebc&#39;: 53.8},</span>
<span class="c1">#      {&#39;name&#39;: &#39;Bevog Tak Pale Ale&#39;, &#39;price&#39;: 2.79, &#39;volume&#39;: 33, &#39;note&#39;: 70, &#39;ebc&#39;: 23.1},</span>
<span class="c1">#      {&#39;name&#39;: &#39;Brew Age Hopfenauflauf&#39;, &#39;price&#39;: 2.99, &#39;volume&#39;: 33, &#39;note&#39;: 70, &#39;ebc&#39;: 7.61}]</span>
<span class="k">def</span> <span class="nf">extract_beer_list_infos</span><span class="p">(</span><span class="n">url</span><span class="p">):</span>
    <span class="n">res</span> <span class="o">=</span> <span class="n">requests</span><span class="o">.</span><span class="n">get</span><span class="p">(</span><span class="n">url</span><span class="p">)</span><span class="o">.</span><span class="n">json</span><span class="p">()</span>
    <span class="n">beer_pages</span> <span class="o">=</span> <span class="p">[]</span>
    <span class="k">for</span> <span class="n">item</span> <span class="ow">in</span> <span class="n">res</span><span class="p">[</span><span class="s1">&#39;items&#39;</span><span class="p">]:</span>
        <span class="n">beer_pages</span><span class="o">.</span><span class="n">append</span><span class="p">(</span><span class="s2">&quot;https://www.beerwulf.com&quot;</span> <span class="o">+</span> <span class="n">item</span><span class="p">[</span><span class="s1">&#39;contentReference&#39;</span><span class="p">])</span>
    
    <span class="c1"># Sequential version (slow):</span>
    <span class="c1"># beers = [extract_beer_infos(u) for u in beer_pages]</span>
    
    <span class="c1"># Parallel version (faster):</span>
    <span class="kn">from</span> <span class="nn">multiprocessing</span> <span class="k">import</span> <span class="n">Pool</span>
    <span class="n">p</span> <span class="o">=</span> <span class="n">Pool</span><span class="p">(</span><span class="n">processes</span><span class="o">=</span><span class="mi">8</span><span class="p">)</span>
    <span class="n">beers</span> <span class="o">=</span> <span class="n">p</span><span class="o">.</span><span class="n">map</span><span class="p">(</span><span class="n">extract_beer_infos</span><span class="p">,</span> <span class="n">beer_pages</span><span class="p">)</span>
    
    <span class="k">return</span> <span class="n">beers</span>
</pre></div>

    </div>
</div>
</div>

</div>
<div class="cell border-box-sizing code_cell rendered">
<div class="input">
<div class="prompt input_prompt">In&nbsp;[2]:</div>
<div class="inner_cell">
    <div class="input_area">
<div class=" highlight hl-ipython3"><pre><span></span><span class="kn">import</span> <span class="nn">unittest</span>


<span class="k">class</span> <span class="nc">Lesson2Tests</span><span class="p">(</span><span class="n">unittest</span><span class="o">.</span><span class="n">TestCase</span><span class="p">):</span>
    <span class="k">def</span> <span class="nf">test_01_get_prices_from_url_page2</span><span class="p">(</span><span class="bp">self</span><span class="p">):</span>
        <span class="n">prices</span> <span class="o">=</span> <span class="n">get_prices_from_url</span><span class="p">(</span><span class="n">URL_PAGE2</span><span class="p">)</span>
        <span class="c1"># We should have found 3 products:</span>
        <span class="bp">self</span><span class="o">.</span><span class="n">assertIsInstance</span><span class="p">(</span><span class="n">prices</span><span class="p">,</span> <span class="nb">dict</span><span class="p">)</span>
        <span class="bp">self</span><span class="o">.</span><span class="n">assertEqual</span><span class="p">(</span><span class="nb">len</span><span class="p">(</span><span class="n">prices</span><span class="p">),</span> <span class="mi">3</span><span class="p">)</span>
        <span class="bp">self</span><span class="o">.</span><span class="n">assertIn</span><span class="p">(</span><span class="s1">&#39;Personal&#39;</span><span class="p">,</span> <span class="n">prices</span><span class="p">)</span>
        <span class="bp">self</span><span class="o">.</span><span class="n">assertIn</span><span class="p">(</span><span class="s1">&#39;Small Business&#39;</span><span class="p">,</span> <span class="n">prices</span><span class="p">)</span>
        <span class="bp">self</span><span class="o">.</span><span class="n">assertIn</span><span class="p">(</span><span class="s1">&#39;Enterprise&#39;</span><span class="p">,</span> <span class="n">prices</span><span class="p">)</span>
        
        <span class="n">personal</span> <span class="o">=</span> <span class="n">prices</span><span class="p">[</span><span class="s1">&#39;Personal&#39;</span><span class="p">]</span>
        <span class="bp">self</span><span class="o">.</span><span class="n">assertIn</span><span class="p">(</span><span class="s1">&#39;price&#39;</span><span class="p">,</span> <span class="n">personal</span><span class="p">)</span>
        <span class="bp">self</span><span class="o">.</span><span class="n">assertIn</span><span class="p">(</span><span class="s1">&#39;storage&#39;</span><span class="p">,</span> <span class="n">personal</span><span class="p">)</span>
        <span class="bp">self</span><span class="o">.</span><span class="n">assertIn</span><span class="p">(</span><span class="s1">&#39;databases&#39;</span><span class="p">,</span> <span class="n">personal</span><span class="p">)</span>
        <span class="bp">self</span><span class="o">.</span><span class="n">assertEqual</span><span class="p">(</span><span class="n">personal</span><span class="p">[</span><span class="s1">&#39;price&#39;</span><span class="p">],</span> <span class="s1">&#39;$5&#39;</span><span class="p">)</span>
        <span class="bp">self</span><span class="o">.</span><span class="n">assertEqual</span><span class="p">(</span><span class="n">personal</span><span class="p">[</span><span class="s1">&#39;storage&#39;</span><span class="p">],</span> <span class="s1">&#39;1GB&#39;</span><span class="p">)</span>
        <span class="bp">self</span><span class="o">.</span><span class="n">assertEqual</span><span class="p">(</span><span class="n">personal</span><span class="p">[</span><span class="s1">&#39;databases&#39;</span><span class="p">],</span> <span class="mi">1</span><span class="p">)</span>
        
    <span class="k">def</span> <span class="nf">test_02_get_prices_from_url_page3</span><span class="p">(</span><span class="bp">self</span><span class="p">):</span>
        <span class="n">prices</span> <span class="o">=</span> <span class="n">get_prices_from_url</span><span class="p">(</span><span class="n">URL_PAGE3</span><span class="p">)</span>
        <span class="bp">self</span><span class="o">.</span><span class="n">assertIsInstance</span><span class="p">(</span><span class="n">prices</span><span class="p">,</span> <span class="nb">dict</span><span class="p">)</span>
        <span class="bp">self</span><span class="o">.</span><span class="n">assertEqual</span><span class="p">(</span><span class="nb">len</span><span class="p">(</span><span class="n">prices</span><span class="p">),</span> <span class="mi">4</span><span class="p">)</span>
        <span class="bp">self</span><span class="o">.</span><span class="n">assertEqual</span><span class="p">(</span>
            <span class="n">prices</span><span class="p">[</span><span class="s1">&#39;Privilege&#39;</span><span class="p">],</span>
            <span class="p">{</span><span class="s1">&#39;databases&#39;</span><span class="p">:</span> <span class="mi">100</span><span class="p">,</span> <span class="s1">&#39;price&#39;</span><span class="p">:</span> <span class="s1">&#39;$99&#39;</span><span class="p">,</span> <span class="s1">&#39;storage&#39;</span><span class="p">:</span> <span class="s1">&#39;1TB&#39;</span><span class="p">}</span>
        <span class="p">)</span>
    
    <span class="k">def</span> <span class="nf">test_03_extract_beer_list_infos</span><span class="p">(</span><span class="bp">self</span><span class="p">):</span>
        <span class="n">infos</span> <span class="o">=</span> <span class="n">extract_beer_list_infos</span><span class="p">(</span><span class="n">URL_BEERLIST_AUTRICHE</span><span class="p">)</span>
        <span class="c1"># We should have 8 austrian beers:</span>
        <span class="bp">self</span><span class="o">.</span><span class="n">assertIsInstance</span><span class="p">(</span><span class="n">infos</span><span class="p">,</span> <span class="nb">list</span><span class="p">)</span>
        <span class="bp">self</span><span class="o">.</span><span class="n">assertEqual</span><span class="p">(</span><span class="nb">len</span><span class="p">(</span><span class="n">infos</span><span class="p">),</span> <span class="mi">8</span><span class="p">)</span>
        <span class="c1"># All of them are 33cl:</span>
        <span class="k">for</span> <span class="n">beer</span> <span class="ow">in</span> <span class="n">infos</span><span class="p">:</span>
            <span class="bp">self</span><span class="o">.</span><span class="n">assertEqual</span><span class="p">(</span><span class="n">beer</span><span class="p">[</span><span class="s1">&#39;volume&#39;</span><span class="p">],</span> <span class="mi">33</span><span class="p">)</span>

            
<span class="k">def</span> <span class="nf">run_tests</span><span class="p">():</span>
    <span class="n">test_suite</span> <span class="o">=</span> <span class="n">unittest</span><span class="o">.</span><span class="n">makeSuite</span><span class="p">(</span><span class="n">Lesson2Tests</span><span class="p">)</span>
    <span class="n">runner</span> <span class="o">=</span> <span class="n">unittest</span><span class="o">.</span><span class="n">TextTestRunner</span><span class="p">(</span><span class="n">verbosity</span><span class="o">=</span><span class="mi">2</span><span class="p">)</span>
    <span class="n">runner</span><span class="o">.</span><span class="n">run</span><span class="p">(</span><span class="n">test_suite</span><span class="p">)</span>


<span class="k">if</span> <span class="vm">__name__</span> <span class="o">==</span> <span class="s1">&#39;__main__&#39;</span><span class="p">:</span>
    <span class="n">run_tests</span><span class="p">()</span>
</pre></div>

    </div>
</div>
</div>

<div class="output_wrapper">
<div class="output">


<div class="output_area">

    <div class="prompt"></div>


<div class="output_subarea output_stream output_stderr output_text">
<pre>test_01_get_prices_from_url_page2 (__main__.Lesson2Tests) ... ok
test_02_get_prices_from_url_page3 (__main__.Lesson2Tests) ... ok
test_03_extract_beer_list_infos (__main__.Lesson2Tests) ... ok

----------------------------------------------------------------------
Ran 3 tests in 3.062s

OK
</pre>
</div>
</div>

</div>
</div>

</div>
<div class="cell border-box-sizing code_cell rendered">
<div class="input">
<div class="prompt input_prompt">In&nbsp;[3]:</div>
<div class="inner_cell">
    <div class="input_area">
<div class=" highlight hl-ipython3"><pre><span></span><span class="o">%%time</span>
<span class="n">extract_beer_list_infos</span><span class="p">(</span><span class="n">URL_BEERLIST_AUTRICHE</span><span class="p">)</span>
</pre></div>

    </div>
</div>
</div>

<div class="output_wrapper">
<div class="output">


<div class="output_area">

    <div class="prompt"></div>


<div class="output_subarea output_stream output_stdout output_text">
<pre>CPU times: user 28 ms, sys: 32 ms, total: 60 ms
Wall time: 1.46 s
</pre>
</div>
</div>

<div class="output_area">

    <div class="prompt output_prompt">Out[3]:</div>




<div class="output_text output_subarea output_execute_result">
<pre>[{&#39;name&#39;: &#39;Brew Age Affenkönig&#39;,
  &#39;price&#39;: 3.49,
  &#39;volume&#39;: 33,
  &#39;note&#39;: 70,
  &#39;ebc&#39;: 30.76923076923077},
 {&#39;name&#39;: &#39;Stiegl Goldbraü&#39;,
  &#39;price&#39;: 2.49,
  &#39;volume&#39;: 33,
  &#39;note&#39;: 70,
  &#39;ebc&#39;: 38.46153846153847},
 {&#39;name&#39;: &#39;Bevog Rudeen Black IPA&#39;,
  &#39;price&#39;: 3.39,
  &#39;volume&#39;: 33,
  &#39;note&#39;: 80,
  &#39;ebc&#39;: 84.61538461538461},
 {&#39;name&#39;: &#39;Stiegl Columbus 1492&#39;,
  &#39;price&#39;: 1.99,
  &#39;volume&#39;: 33,
  &#39;note&#39;: 70,
  &#39;ebc&#39;: 7.6923076923076925},
 {&#39;name&#39;: &#39;Engelszell Benno&#39;,
  &#39;price&#39;: 4.99,
  &#39;volume&#39;: 33,
  &#39;note&#39;: 70,
  &#39;ebc&#39;: 46.15384615384615},
 {&#39;name&#39;: &#39;Engelszell Gregorius&#39;,
  &#39;price&#39;: 5.49,
  &#39;volume&#39;: 33,
  &#39;note&#39;: 70,
  &#39;ebc&#39;: 53.84615384615385},
 {&#39;name&#39;: &#39;Bevog Tak Pale Ale&#39;,
  &#39;price&#39;: 2.79,
  &#39;volume&#39;: 33,
  &#39;note&#39;: 70,
  &#39;ebc&#39;: 23.076923076923077},
 {&#39;name&#39;: &#39;Brew Age Hopfenauflauf&#39;,
  &#39;price&#39;: 2.99,
  &#39;volume&#39;: 33,
  &#39;note&#39;: 70,
  &#39;ebc&#39;: 7.6923076923076925}]</pre>
</div>

</div>

</div>
</div>

</div>
 


    </div>
  </div>

  </div>


  
    <footer class="footer hidden-print">
      <div class="container">
        <div class="col-md-4">
          <p>
            This website does not host notebooks, it only renders notebooks
            available on other websites.
          </p>
        </div>

        <div class="col-md-4">
          <p>
            Delivered by <a href="https://www.fastly.com/">Fastly</a>,
            Rendered by <a href="https://developer.rackspace.com/?nbviewer=awesome">Rackspace</a>
          </p>
          <p>
            nbviewer GitHub <a href="https://github.com/jupyter/nbviewer">repository</a>.
          </p>
        </div>

        <div class="col-md-4">
          
  
            
              <p>
                nbviewer version:
                <a href="https://github.com/jupyter/nbviewer/commit/07b0e305b3254e2280b29f20ceb96c058db2f775">
                  07b0e30
                </a>
              </p>
            
          
  
  <p>
    nbconvert version: <a href="https://github.com/jupyter/nbconvert/releases/tag/5.6.0">
      5.6.0
    </a>
  </p>
  

          
  
  
  <p>
    Rendered
    <span class='date' data-date='Tue, 05 Nov 2019 20:27:33 UTC' title='Tue, 05 Nov 2019 20:27:33 UTC'>(Tue, 05 Nov 2019 20:27:33 UTC)</span>
  </p>
  

        </div>
      </div>
    </footer>
  

  <script src="/static/components/bootstrap/js/bootstrap.min.js?v=5869c96cc8f19086aee625d670d741f9"></script>
  <script src="/static/components/headroom.js/dist/headroom.min.js?v=b0a311ea668f8e768ea375f4a7abb81c"></script>
  <script src="/static/components/headroom.js/dist/jQuery.headroom.min.js?v=f3a1bae118315d0c234afc74dc6aab71"></script>

  
  
  <script>
    $(function(){ $("#menubar").headroom({
      tolerance: 5,
      offset: 205,
      classes: {
        initial: "animated",
        pinned: "slideInDown",
        unpinned: "slideOutUp"
      }
    })});
  </script>


  
  <script>
    (function(i,s,o,g,r,a,m){i['GoogleAnalyticsObject']=r;i[r]=i[r]||function(){
      (i[r].q=i[r].q||[]).push(arguments)},i[r].l=1*new Date();a=s.createElement(o),
      m=s.getElementsByTagName(o)[0];a.async=1;a.src=g;m.parentNode.insertBefore(a,m)
    })(window,document,'script','https://www.google-analytics.com/analytics.js','ga');
    ga('create', 'UA-52617120-5', 'auto',
       {'storage': 'none'});
    ga('set', 'anonymizeIp', true);
    ga('send', 'pageview');
  </script>
  
  <script>
    require({
        paths: {
          moment: "/static/components/moment/min/moment.min.js?v=89f87298ad94aa1e6b92f42eb66da043"
        }
      }, ["moment"], function(moment){
      var date = $("footer .date"),
        m = moment(new Date(date.data('date'))),
        update = function(){ date.text(m.fromNow()); };
      setInterval(update, 61*1000);
      update();
      var w = $(window).scroll(function(event){
        $("body").toggleClass("scrolled", w.scrollTop() > 0);
      });
    });
  </script>

  <!--NEW RELIC Stop Perf Measurement-->
  
  <!--NEW RELIC End-->
</body>
</html>