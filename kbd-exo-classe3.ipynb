








<!DOCTYPE html>
<html lang="en">

<head>
  <meta charset="utf-8">
  <title>Jupyter Notebook Viewer</title>
  <meta name="viewport" content="width=device-width, initial-scale=1.0">
  <meta name="description" content="">
  <meta name="author" content="">
  
  <meta name="robots" content="noindex,nofollow">
  

  <!--NEW RELIC Start Perf Measurement-->
  
  <!--NREND-->

  <!-- Le styles -->
  <link href="/static/build/styles.css?v=55ba354138253381d2c0ada9821cd4da" rel="stylesheet">

  <!-- Le HTML5 shim, for IE6-8 support of HTML5 elements -->
  <!--[if lt IE 9]>
    <script src="http://html5shim.googlecode.com/svn/trunk/html5.js"></script>
  <![endif]-->

  <!-- Le fav and touch icons -->
  <link rel="shortcut icon" href="/static/ico/ipynb_icon_16x16.png">
  <link rel="apple-touch-icon-precomposed" sizes="144x144"
        href="/static/ico/apple-touch-icon-144-precomposed.png?v=5a3c9ede93e2a8b8ea9e3f8f3da1a905">
  <link rel="apple-touch-icon-precomposed" sizes="114x114"
        href="/static/ico/apple-touch-icon-114-precomposed.png?v=45d86fc8f24dc00638035e1dd7a6d898">
  <link rel="apple-touch-icon-precomposed" sizes="72x72"
        href="/static/ico/apple-touch-icon-72-precomposed.png?v=540b5eb0f3cfd25f1439d1c9bd30e15f">
  <link rel="apple-touch-icon-precomposed"
        href="/static/ico/apple-touch-icon-57-precomposed.png?v=225f0590e187e1458625654f10a28f56">
  
  

  

  
  <meta name="twitter:card" content="summary">
  <meta name="twitter:title" content="Notebook on nbviewer">
  <meta name="twitter:description" content="Check out this Jupyter notebook!">

  
  <meta name="twitter:domain" content="nbviewer.jupyter.org">
  <meta name="twitter:image:src" content="http://ipython.org/ipython-doc/dev/_images/ipynb_icon_128x128.png">

  
    <link href="/static/build/notebook.css?v=aae8f92f7e80fc468ae446b9d852fe90" rel="stylesheet">
  

  

  
    <script src="https://cdnjs.cloudflare.com/ajax/libs/mathjax/2.7.1/MathJax.js?config=TeX-AMS_HTML" type="text/javascript">
    </script>
    <script type="text/javascript">
      init_mathjax = function() {
        if (window.MathJax) {
          // MathJax loaded
          MathJax.Hub.Config({
            TeX: {
              equationNumbers: {
                autoNumber: "AMS",
                useLabelIds: true
              }
            },
            tex2jax: {
              inlineMath: [ ['$','$'], ["\\(","\\)"] ],
              displayMath: [ ['$$','$$'], ["\\[","\\]"] ],
              processEscapes: true,
              processEnvironments: true
            },
            displayAlign: 'center',
            "HTML-CSS": {
              styles: {'.MathJax_Display': {"margin": 0}},
              linebreaks: { automatic: true }
            }
          });
          MathJax.Hub.Queue(["Typeset", MathJax.Hub]);
        }
      }
      init_mathjax();
    </script>
  

  
    <script>
      (function() {
        function addWidgetsRenderer() {
          var mimeElement = document.querySelector('script[type="application/vnd.jupyter.widget-view+json"]');
          var scriptElement = document.createElement('script');
          var widgetRendererSrc = 'https://unpkg.com/@jupyter-widgets/html-manager@0.15/dist/embed-amd.js';
          var widgetState;

          try {
            widgetState = mimeElement && JSON.parse(mimeElement.innerHTML);

            if (widgetState && (widgetState.version_major < 2 || !widgetState.version_major)) {
              widgetRendererSrc = 'https://unpkg.com/jupyter-js-widgets@2.1/dist/embed.js';
            }
          } catch(e) {}

          scriptElement.src = widgetRendererSrc;
          document.body.appendChild(scriptElement);
        }

        document.addEventListener('DOMContentLoaded', addWidgetsRenderer);
      }());
    </script>
  

</head>

<body class="nbviewer">

  <!-- These are loaded at the top of the body so they are available to
       notebook cells when they are loaded below. -->
  <script src="/static/components/jquery/dist/jquery.min.js?v=220afd743d9e9643852e31a135a9f3ae"></script>
  <script src="/static/components/requirejs/require.js?v=6da8be361b9ee26c5e721e76c6d4afce"></script>
  <script src="/static/components/moment/min/moment.min.js?v=89f87298ad94aa1e6b92f42eb66da043"></script>
<!-- Navbar
================================================== -->
  <nav id="menubar" class="navbar navbar-default navbar-fixed-top" data-spy="affix">
    <div class="container">
      <div class="navbar-header">
        <button type="button" class="navbar-toggle collapsed" data-toggle="collapse" data-target=".navbar-collapse">
          <span class="sr-only">Toggle navigation</span>
          <i class="fa fa-bars"></i>
        </button>
        <a class="navbar-brand" href="/">
          <img src="/static/img/nav_logo.svg?v=479cefe8d932fb14a67b93911b97d70f" width="159"/>
        </a>
      </div>

      <div class="collapse navbar-collapse">
        <ul class="nav navbar-nav navbar-right">
          <li>
            <a class="active" href="https://jupyter.org">JUPYTER</a>
          </li>
          <li>
    <a href="/faq" title="FAQ" >
      
        <span>FAQ</span>
      
    </a>
  </li>

          
  
    
  
    
      
        <li>
    <a href="/format/script/github/fspot/INFMDI-721/blob/master/lesson4/distance-d24.ipynb" title="View as Code" >
      <span class="fa fa-code fa-2x menu-icon"></span>
      <span class="menu-text">View as Code</span>
    </a>
  </li>
      
    
  

  
    <li>
    <a href="#" title="Python 3 Kernel" >
      <span class="fa fa-server fa-2x menu-icon"></span>
      <span class="menu-text">Python 3 Kernel</span>
    </a>
  </li>
  

  
    <li>
    <a href="https://github.com/fspot/INFMDI-721/blob/master/lesson4/distance-d24.ipynb" title="View on GitHub" >
      <span class="fa fa-github fa-2x menu-icon"></span>
      <span class="menu-text">View on GitHub</span>
    </a>
  </li>
  

  
    <li>
    <a href="https://mybinder.org/v2/gh/fspot/INFMDI-721/master?filepath=lesson4/distance-d24.ipynb" title="Execute on Binder" >
      <span class="fa fa-icon-binder fa-2x menu-icon"></span>
      <span class="menu-text">Execute on Binder</span>
    </a>
  </li>
  

  <li>
    <a href="https://raw.githubusercontent.com/fspot/INFMDI-721/master/lesson4/distance-d24.ipynb" title="Download Notebook" download>
      <span class="fa fa-download fa-2x menu-icon"></span>
      <span class="menu-text">Download Notebook</span>
    </a>
  </li>

        </ul>
      </div><!-- /.navbar-collapse -->
      
      
    </div>
  </nav>

  <div class="container container-main">
    
  
  <ol class="breadcrumb">
    
      <li>
        <a href="/github/fspot/INFMDI-721/tree/master">INFMDI-721</a>
      </li>
    
      <li>
        <a href="/github/fspot/INFMDI-721/tree/master/lesson4">lesson4</a>
      </li>
    
  </ol>
  
  <div id="notebook">
    <div id="notebook-container">
      <div class="cell border-box-sizing code_cell rendered">
<div class="input">
<div class="prompt input_prompt">In&nbsp;[1]:</div>
<div class="inner_cell">
    <div class="input_area">
<div class=" highlight hl-ipython3"><pre><span></span><span class="kn">import</span> <span class="nn">itertools</span>
<span class="kn">from</span> <span class="nn">bs4</span> <span class="k">import</span> <span class="n">BeautifulSoup</span>
<span class="kn">import</span> <span class="nn">requests</span>

<span class="n">URL</span> <span class="o">=</span> <span class="s2">&quot;https://fr.wikipedia.org/wiki/Liste_des_communes_de_France_les_plus_peuplées&quot;</span>


<span class="k">def</span> <span class="nf">get_soup_from_url</span><span class="p">(</span><span class="n">url</span><span class="p">):</span>
    <span class="k">return</span> <span class="n">BeautifulSoup</span><span class="p">(</span><span class="n">requests</span><span class="o">.</span><span class="n">get</span><span class="p">(</span><span class="n">url</span><span class="p">)</span><span class="o">.</span><span class="n">content</span><span class="p">,</span> <span class="s1">&#39;html.parser&#39;</span><span class="p">)</span>
</pre></div>

    </div>
</div>
</div>

</div>
<div class="cell border-box-sizing code_cell rendered">
<div class="input">
<div class="prompt input_prompt">In&nbsp;[2]:</div>
<div class="inner_cell">
    <div class="input_area">
<div class=" highlight hl-ipython3"><pre><span></span><span class="k">def</span> <span class="nf">get_biggest_cities</span><span class="p">(</span><span class="n">limit</span><span class="o">=</span><span class="mi">10</span><span class="p">):</span>
    <span class="n">cities</span> <span class="o">=</span> <span class="p">[]</span>
    <span class="n">soup</span> <span class="o">=</span> <span class="n">get_soup_from_url</span><span class="p">(</span><span class="n">URL</span><span class="p">)</span>
    
    <span class="c1"># Using css nth-child selector:</span>
    <span class="c1"># cities_tags = soup.find(&#39;table&#39;).select(&#39;tr td:nth-child(2)&#39;)</span>
    <span class="c1"># cities = [city.find(&#39;a&#39;).text.strip() for city in cities_tags]</span>
    
    <span class="n">rows</span> <span class="o">=</span> <span class="n">soup</span><span class="o">.</span><span class="n">find</span><span class="p">(</span><span class="s1">&#39;table&#39;</span><span class="p">)</span><span class="o">.</span><span class="n">find_all</span><span class="p">(</span><span class="s1">&#39;tr&#39;</span><span class="p">)[</span><span class="mi">1</span><span class="p">:]</span>  <span class="c1"># exclude 1st line (column names)</span>
    <span class="k">for</span> <span class="n">r</span> <span class="ow">in</span> <span class="n">rows</span><span class="p">:</span>
        <span class="n">cells</span> <span class="o">=</span> <span class="n">r</span><span class="o">.</span><span class="n">find_all</span><span class="p">(</span><span class="s1">&#39;td&#39;</span><span class="p">)</span>
        <span class="n">city</span> <span class="o">=</span> <span class="n">cells</span><span class="p">[</span><span class="mi">1</span><span class="p">]</span><span class="o">.</span><span class="n">find</span><span class="p">(</span><span class="s1">&#39;a&#39;</span><span class="p">)</span><span class="o">.</span><span class="n">text</span><span class="o">.</span><span class="n">strip</span><span class="p">()</span>
        <span class="n">cities</span><span class="o">.</span><span class="n">append</span><span class="p">(</span><span class="n">city</span><span class="p">)</span>
    <span class="k">return</span> <span class="n">cities</span><span class="p">[:</span><span class="n">limit</span><span class="p">]</span>
</pre></div>

    </div>
</div>
</div>

</div>
<div class="cell border-box-sizing code_cell rendered">
<div class="input">
<div class="prompt input_prompt">In&nbsp;[7]:</div>
<div class="inner_cell">
    <div class="input_area">
<div class=" highlight hl-ipython3"><pre><span></span><span class="k">def</span> <span class="nf">get_distance_between</span><span class="p">(</span><span class="n">origin</span><span class="p">,</span> <span class="n">destination</span><span class="p">):</span>
    <span class="n">url</span> <span class="o">=</span> <span class="n">f</span><span class="s2">&quot;https://fr.distance24.org/route.json?stops=</span><span class="si">{origin}</span><span class="s2">|</span><span class="si">{destination}</span><span class="s2">&quot;</span>
    <span class="n">data</span> <span class="o">=</span> <span class="n">requests</span><span class="o">.</span><span class="n">get</span><span class="p">(</span><span class="n">url</span><span class="p">)</span><span class="o">.</span><span class="n">json</span><span class="p">()</span>
    <span class="k">return</span> <span class="n">data</span><span class="p">[</span><span class="s1">&#39;distance&#39;</span><span class="p">]</span>
</pre></div>

    </div>
</div>
</div>

</div>
<div class="cell border-box-sizing code_cell rendered">
<div class="input">
<div class="prompt input_prompt">In&nbsp;[8]:</div>
<div class="inner_cell">
    <div class="input_area">
<div class=" highlight hl-ipython3"><pre><span></span><span class="n">cities</span> <span class="o">=</span> <span class="n">get_biggest_cities</span><span class="p">()</span>
</pre></div>

    </div>
</div>
</div>

</div>
<div class="cell border-box-sizing code_cell rendered">
<div class="input">
<div class="prompt input_prompt">In&nbsp;[16]:</div>
<div class="inner_cell">
    <div class="input_area">
<div class=" highlight hl-ipython3"><pre><span></span><span class="n">combinations</span> <span class="o">=</span> <span class="nb">list</span><span class="p">(</span><span class="n">itertools</span><span class="o">.</span><span class="n">combinations</span><span class="p">(</span><span class="n">cities</span><span class="p">,</span> <span class="mi">2</span><span class="p">))</span>
</pre></div>

    </div>
</div>
</div>

</div>
<div class="cell border-box-sizing code_cell rendered">
<div class="input">
<div class="prompt input_prompt">In&nbsp;[18]:</div>
<div class="inner_cell">
    <div class="input_area">
<div class=" highlight hl-ipython3"><pre><span></span><span class="n">distances</span> <span class="o">=</span> <span class="p">[]</span>
<span class="k">for</span> <span class="n">origin</span><span class="p">,</span> <span class="n">dest</span> <span class="ow">in</span> <span class="n">combinations</span><span class="p">:</span>
    <span class="n">distance</span> <span class="o">=</span> <span class="n">get_distance_between</span><span class="p">(</span><span class="n">origin</span><span class="p">,</span> <span class="n">dest</span><span class="p">)</span>
    <span class="n">distances</span><span class="o">.</span><span class="n">append</span><span class="p">(</span><span class="n">distance</span><span class="p">)</span>
</pre></div>

    </div>
</div>
</div>

</div>
<div class="cell border-box-sizing code_cell rendered">
<div class="input">
<div class="prompt input_prompt">In&nbsp;[23]:</div>
<div class="inner_cell">
    <div class="input_area">
<div class=" highlight hl-ipython3"><pre><span></span><span class="n">df</span> <span class="o">=</span> <span class="n">pd</span><span class="o">.</span><span class="n">DataFrame</span><span class="p">(</span><span class="n">combinations</span><span class="p">,</span> <span class="n">columns</span><span class="o">=</span><span class="p">[</span><span class="s1">&#39;origin&#39;</span><span class="p">,</span> <span class="s1">&#39;dest&#39;</span><span class="p">])</span>
</pre></div>

    </div>
</div>
</div>

</div>
<div class="cell border-box-sizing code_cell rendered">
<div class="input">
<div class="prompt input_prompt">In&nbsp;[28]:</div>
<div class="inner_cell">
    <div class="input_area">
<div class=" highlight hl-ipython3"><pre><span></span><span class="n">df</span><span class="p">[</span><span class="s1">&#39;distance&#39;</span><span class="p">]</span> <span class="o">=</span> <span class="n">distances</span>
</pre></div>

    </div>
</div>
</div>

</div>
<div class="cell border-box-sizing code_cell rendered">
<div class="input">
<div class="prompt input_prompt">In&nbsp;[29]:</div>
<div class="inner_cell">
    <div class="input_area">
<div class=" highlight hl-ipython3"><pre><span></span><span class="n">df</span>
</pre></div>

    </div>
</div>
</div>

<div class="output_wrapper">
<div class="output">


<div class="output_area">

    <div class="prompt output_prompt">Out[29]:</div>



<div class="output_html rendered_html output_subarea output_execute_result">
<div>
<style scoped>
    .dataframe tbody tr th:only-of-type {
        vertical-align: middle;
    }

    .dataframe tbody tr th {
        vertical-align: top;
    }

    .dataframe thead th {
        text-align: right;
    }
</style>
<table border="1" class="dataframe">
  <thead>
    <tr style="text-align: right;">
      <th></th>
      <th>origin</th>
      <th>dest</th>
      <th>distance</th>
    </tr>
  </thead>
  <tbody>
    <tr>
      <td>0</td>
      <td>Paris</td>
      <td>Marseille</td>
      <td>661</td>
    </tr>
    <tr>
      <td>1</td>
      <td>Paris</td>
      <td>Lyon</td>
      <td>392</td>
    </tr>
    <tr>
      <td>2</td>
      <td>Paris</td>
      <td>Toulouse</td>
      <td>589</td>
    </tr>
    <tr>
      <td>3</td>
      <td>Paris</td>
      <td>Nice</td>
      <td>688</td>
    </tr>
    <tr>
      <td>4</td>
      <td>Paris</td>
      <td>Nantes</td>
      <td>343</td>
    </tr>
    <tr>
      <td>5</td>
      <td>Paris</td>
      <td>Montpellier</td>
      <td>596</td>
    </tr>
    <tr>
      <td>6</td>
      <td>Paris</td>
      <td>Strasbourg</td>
      <td>397</td>
    </tr>
    <tr>
      <td>7</td>
      <td>Paris</td>
      <td>Bordeaux</td>
      <td>500</td>
    </tr>
    <tr>
      <td>8</td>
      <td>Paris</td>
      <td>Lille</td>
      <td>204</td>
    </tr>
    <tr>
      <td>9</td>
      <td>Marseille</td>
      <td>Lyon</td>
      <td>278</td>
    </tr>
    <tr>
      <td>10</td>
      <td>Marseille</td>
      <td>Toulouse</td>
      <td>319</td>
    </tr>
    <tr>
      <td>11</td>
      <td>Marseille</td>
      <td>Nice</td>
      <td>159</td>
    </tr>
    <tr>
      <td>12</td>
      <td>Marseille</td>
      <td>Nantes</td>
      <td>696</td>
    </tr>
    <tr>
      <td>13</td>
      <td>Marseille</td>
      <td>Montpellier</td>
      <td>126</td>
    </tr>
    <tr>
      <td>14</td>
      <td>Marseille</td>
      <td>Strasbourg</td>
      <td>617</td>
    </tr>
    <tr>
      <td>15</td>
      <td>Marseille</td>
      <td>Bordeaux</td>
      <td>506</td>
    </tr>
    <tr>
      <td>16</td>
      <td>Marseille</td>
      <td>Lille</td>
      <td>835</td>
    </tr>
    <tr>
      <td>17</td>
      <td>Lyon</td>
      <td>Toulouse</td>
      <td>360</td>
    </tr>
    <tr>
      <td>18</td>
      <td>Lyon</td>
      <td>Nice</td>
      <td>300</td>
    </tr>
    <tr>
      <td>19</td>
      <td>Lyon</td>
      <td>Nantes</td>
      <td>516</td>
    </tr>
    <tr>
      <td>20</td>
      <td>Lyon</td>
      <td>Montpellier</td>
      <td>251</td>
    </tr>
    <tr>
      <td>21</td>
      <td>Lyon</td>
      <td>Strasbourg</td>
      <td>384</td>
    </tr>
    <tr>
      <td>22</td>
      <td>Lyon</td>
      <td>Bordeaux</td>
      <td>436</td>
    </tr>
    <tr>
      <td>23</td>
      <td>Lyon</td>
      <td>Lille</td>
      <td>558</td>
    </tr>
    <tr>
      <td>24</td>
      <td>Toulouse</td>
      <td>Nice</td>
      <td>469</td>
    </tr>
    <tr>
      <td>25</td>
      <td>Toulouse</td>
      <td>Nantes</td>
      <td>466</td>
    </tr>
    <tr>
      <td>26</td>
      <td>Toulouse</td>
      <td>Montpellier</td>
      <td>196</td>
    </tr>
    <tr>
      <td>27</td>
      <td>Toulouse</td>
      <td>Strasbourg</td>
      <td>737</td>
    </tr>
    <tr>
      <td>28</td>
      <td>Toulouse</td>
      <td>Bordeaux</td>
      <td>212</td>
    </tr>
    <tr>
      <td>29</td>
      <td>Toulouse</td>
      <td>Lille</td>
      <td>792</td>
    </tr>
    <tr>
      <td>30</td>
      <td>Nice</td>
      <td>Nantes</td>
      <td>792</td>
    </tr>
    <tr>
      <td>31</td>
      <td>Nice</td>
      <td>Montpellier</td>
      <td>273</td>
    </tr>
    <tr>
      <td>32</td>
      <td>Nice</td>
      <td>Strasbourg</td>
      <td>545</td>
    </tr>
    <tr>
      <td>33</td>
      <td>Nice</td>
      <td>Bordeaux</td>
      <td>638</td>
    </tr>
    <tr>
      <td>34</td>
      <td>Nice</td>
      <td>Lille</td>
      <td>835</td>
    </tr>
    <tr>
      <td>35</td>
      <td>Nantes</td>
      <td>Montpellier</td>
      <td>584</td>
    </tr>
    <tr>
      <td>36</td>
      <td>Nantes</td>
      <td>Strasbourg</td>
      <td>710</td>
    </tr>
    <tr>
      <td>37</td>
      <td>Nantes</td>
      <td>Bordeaux</td>
      <td>276</td>
    </tr>
    <tr>
      <td>38</td>
      <td>Nantes</td>
      <td>Lille</td>
      <td>508</td>
    </tr>
    <tr>
      <td>39</td>
      <td>Montpellier</td>
      <td>Strasbourg</td>
      <td>629</td>
    </tr>
    <tr>
      <td>40</td>
      <td>Montpellier</td>
      <td>Bordeaux</td>
      <td>381</td>
    </tr>
    <tr>
      <td>41</td>
      <td>Montpellier</td>
      <td>Lille</td>
      <td>784</td>
    </tr>
    <tr>
      <td>42</td>
      <td>Strasbourg</td>
      <td>Bordeaux</td>
      <td>760</td>
    </tr>
    <tr>
      <td>43</td>
      <td>Strasbourg</td>
      <td>Lille</td>
      <td>408</td>
    </tr>
    <tr>
      <td>44</td>
      <td>Bordeaux</td>
      <td>Lille</td>
      <td>700</td>
    </tr>
  </tbody>
</table>
</div>
</div>

</div>

</div>
</div>

</div>
<div class="cell border-box-sizing code_cell rendered">
<div class="input">
<div class="prompt input_prompt">In&nbsp;[5]:</div>
<div class="inner_cell">
    <div class="input_area">
<div class=" highlight hl-ipython3"><pre><span></span><span class="n">df</span><span class="o">.</span><span class="n">sort_values</span><span class="p">(</span><span class="s1">&#39;distance&#39;</span><span class="p">)</span>
</pre></div>

    </div>
</div>
</div>

<div class="output_wrapper">
<div class="output">


<div class="output_area">

    <div class="prompt output_prompt">Out[5]:</div>



<div class="output_html rendered_html output_subarea output_execute_result">
<div>
<style scoped>
    .dataframe tbody tr th:only-of-type {
        vertical-align: middle;
    }

    .dataframe tbody tr th {
        vertical-align: top;
    }

    .dataframe thead th {
        text-align: right;
    }
</style>
<table border="1" class="dataframe">
  <thead>
    <tr style="text-align: right;">
      <th></th>
      <th>origin</th>
      <th>dest</th>
      <th>distance</th>
    </tr>
  </thead>
  <tbody>
    <tr>
      <td>13</td>
      <td>Marseille</td>
      <td>Montpellier</td>
      <td>126</td>
    </tr>
    <tr>
      <td>11</td>
      <td>Marseille</td>
      <td>Nice</td>
      <td>159</td>
    </tr>
    <tr>
      <td>26</td>
      <td>Toulouse</td>
      <td>Montpellier</td>
      <td>196</td>
    </tr>
    <tr>
      <td>8</td>
      <td>Paris</td>
      <td>Lille</td>
      <td>204</td>
    </tr>
    <tr>
      <td>28</td>
      <td>Toulouse</td>
      <td>Bordeaux</td>
      <td>212</td>
    </tr>
    <tr>
      <td>20</td>
      <td>Lyon</td>
      <td>Montpellier</td>
      <td>251</td>
    </tr>
    <tr>
      <td>31</td>
      <td>Nice</td>
      <td>Montpellier</td>
      <td>273</td>
    </tr>
    <tr>
      <td>37</td>
      <td>Nantes</td>
      <td>Bordeaux</td>
      <td>276</td>
    </tr>
    <tr>
      <td>9</td>
      <td>Marseille</td>
      <td>Lyon</td>
      <td>278</td>
    </tr>
    <tr>
      <td>18</td>
      <td>Lyon</td>
      <td>Nice</td>
      <td>300</td>
    </tr>
    <tr>
      <td>10</td>
      <td>Marseille</td>
      <td>Toulouse</td>
      <td>319</td>
    </tr>
    <tr>
      <td>4</td>
      <td>Paris</td>
      <td>Nantes</td>
      <td>343</td>
    </tr>
    <tr>
      <td>17</td>
      <td>Lyon</td>
      <td>Toulouse</td>
      <td>360</td>
    </tr>
    <tr>
      <td>40</td>
      <td>Montpellier</td>
      <td>Bordeaux</td>
      <td>381</td>
    </tr>
    <tr>
      <td>21</td>
      <td>Lyon</td>
      <td>Strasbourg</td>
      <td>384</td>
    </tr>
    <tr>
      <td>1</td>
      <td>Paris</td>
      <td>Lyon</td>
      <td>392</td>
    </tr>
    <tr>
      <td>6</td>
      <td>Paris</td>
      <td>Strasbourg</td>
      <td>397</td>
    </tr>
    <tr>
      <td>43</td>
      <td>Strasbourg</td>
      <td>Lille</td>
      <td>408</td>
    </tr>
    <tr>
      <td>22</td>
      <td>Lyon</td>
      <td>Bordeaux</td>
      <td>436</td>
    </tr>
    <tr>
      <td>25</td>
      <td>Toulouse</td>
      <td>Nantes</td>
      <td>466</td>
    </tr>
    <tr>
      <td>24</td>
      <td>Toulouse</td>
      <td>Nice</td>
      <td>469</td>
    </tr>
    <tr>
      <td>7</td>
      <td>Paris</td>
      <td>Bordeaux</td>
      <td>500</td>
    </tr>
    <tr>
      <td>15</td>
      <td>Marseille</td>
      <td>Bordeaux</td>
      <td>506</td>
    </tr>
    <tr>
      <td>38</td>
      <td>Nantes</td>
      <td>Lille</td>
      <td>508</td>
    </tr>
    <tr>
      <td>19</td>
      <td>Lyon</td>
      <td>Nantes</td>
      <td>516</td>
    </tr>
    <tr>
      <td>32</td>
      <td>Nice</td>
      <td>Strasbourg</td>
      <td>545</td>
    </tr>
    <tr>
      <td>23</td>
      <td>Lyon</td>
      <td>Lille</td>
      <td>558</td>
    </tr>
    <tr>
      <td>35</td>
      <td>Nantes</td>
      <td>Montpellier</td>
      <td>584</td>
    </tr>
    <tr>
      <td>2</td>
      <td>Paris</td>
      <td>Toulouse</td>
      <td>589</td>
    </tr>
    <tr>
      <td>5</td>
      <td>Paris</td>
      <td>Montpellier</td>
      <td>596</td>
    </tr>
    <tr>
      <td>14</td>
      <td>Marseille</td>
      <td>Strasbourg</td>
      <td>617</td>
    </tr>
    <tr>
      <td>39</td>
      <td>Montpellier</td>
      <td>Strasbourg</td>
      <td>629</td>
    </tr>
    <tr>
      <td>33</td>
      <td>Nice</td>
      <td>Bordeaux</td>
      <td>638</td>
    </tr>
    <tr>
      <td>0</td>
      <td>Paris</td>
      <td>Marseille</td>
      <td>661</td>
    </tr>
    <tr>
      <td>3</td>
      <td>Paris</td>
      <td>Nice</td>
      <td>688</td>
    </tr>
    <tr>
      <td>12</td>
      <td>Marseille</td>
      <td>Nantes</td>
      <td>696</td>
    </tr>
    <tr>
      <td>44</td>
      <td>Bordeaux</td>
      <td>Lille</td>
      <td>700</td>
    </tr>
    <tr>
      <td>36</td>
      <td>Nantes</td>
      <td>Strasbourg</td>
      <td>710</td>
    </tr>
    <tr>
      <td>27</td>
      <td>Toulouse</td>
      <td>Strasbourg</td>
      <td>737</td>
    </tr>
    <tr>
      <td>42</td>
      <td>Strasbourg</td>
      <td>Bordeaux</td>
      <td>760</td>
    </tr>
    <tr>
      <td>41</td>
      <td>Montpellier</td>
      <td>Lille</td>
      <td>784</td>
    </tr>
    <tr>
      <td>29</td>
      <td>Toulouse</td>
      <td>Lille</td>
      <td>792</td>
    </tr>
    <tr>
      <td>30</td>
      <td>Nice</td>
      <td>Nantes</td>
      <td>792</td>
    </tr>
    <tr>
      <td>34</td>
      <td>Nice</td>
      <td>Lille</td>
      <td>835</td>
    </tr>
    <tr>
      <td>16</td>
      <td>Marseille</td>
      <td>Lille</td>
      <td>835</td>
    </tr>
  </tbody>
</table>
</div>
</div>

</div>

</div>
</div>

</div>
 


    </div>
  </div>

  </div>


  
    <footer class="footer hidden-print">
      <div class="container">
        <div class="col-md-4">
          <p>
            This website does not host notebooks, it only renders notebooks
            available on other websites.
          </p>
        </div>

        <div class="col-md-4">
          <p>
            Delivered by <a href="https://www.fastly.com/">Fastly</a>,
            Rendered by <a href="https://developer.rackspace.com/?nbviewer=awesome">Rackspace</a>
          </p>
          <p>
            nbviewer GitHub <a href="https://github.com/jupyter/nbviewer">repository</a>.
          </p>
        </div>

        <div class="col-md-4">
          
  
            
              <p>
                nbviewer version:
                <a href="https://github.com/jupyter/nbviewer/commit/07b0e305b3254e2280b29f20ceb96c058db2f775">
                  07b0e30
                </a>
              </p>
            
          
  
  <p>
    nbconvert version: <a href="https://github.com/jupyter/nbconvert/releases/tag/5.6.0">
      5.6.0
    </a>
  </p>
  

          
  
  
  <p>
    Rendered
    <span class='date' data-date='Tue, 05 Nov 2019 20:29:45 UTC' title='Tue, 05 Nov 2019 20:29:45 UTC'>(Tue, 05 Nov 2019 20:29:45 UTC)</span>
  </p>
  

        </div>
      </div>
    </footer>
  

  <script src="/static/components/bootstrap/js/bootstrap.min.js?v=5869c96cc8f19086aee625d670d741f9"></script>
  <script src="/static/components/headroom.js/dist/headroom.min.js?v=b0a311ea668f8e768ea375f4a7abb81c"></script>
  <script src="/static/components/headroom.js/dist/jQuery.headroom.min.js?v=f3a1bae118315d0c234afc74dc6aab71"></script>

  
  
  <script>
    $(function(){ $("#menubar").headroom({
      tolerance: 5,
      offset: 205,
      classes: {
        initial: "animated",
        pinned: "slideInDown",
        unpinned: "slideOutUp"
      }
    })});
  </script>


  
  <script>
    (function(i,s,o,g,r,a,m){i['GoogleAnalyticsObject']=r;i[r]=i[r]||function(){
      (i[r].q=i[r].q||[]).push(arguments)},i[r].l=1*new Date();a=s.createElement(o),
      m=s.getElementsByTagName(o)[0];a.async=1;a.src=g;m.parentNode.insertBefore(a,m)
    })(window,document,'script','https://www.google-analytics.com/analytics.js','ga');
    ga('create', 'UA-52617120-5', 'auto',
       {'storage': 'none'});
    ga('set', 'anonymizeIp', true);
    ga('send', 'pageview');
  </script>
  
  <script>
    require({
        paths: {
          moment: "/static/components/moment/min/moment.min.js?v=89f87298ad94aa1e6b92f42eb66da043"
        }
      }, ["moment"], function(moment){
      var date = $("footer .date"),
        m = moment(new Date(date.data('date'))),
        update = function(){ date.text(m.fromNow()); };
      setInterval(update, 61*1000);
      update();
      var w = $(window).scroll(function(event){
        $("body").toggleClass("scrolled", w.scrollTop() > 0);
      });
    });
  </script>

  <!--NEW RELIC Stop Perf Measurement-->
  
  <!--NEW RELIC End-->
</body>
</html>